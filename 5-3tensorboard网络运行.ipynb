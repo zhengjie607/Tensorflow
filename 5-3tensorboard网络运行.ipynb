{
 "cells": [
  {
   "cell_type": "code",
   "execution_count": 2,
   "metadata": {
    "collapsed": true
   },
   "outputs": [],
   "source": [
    "import tensorflow as tf\n",
    "from tensorflow.examples.tutorials.mnist import input_data"
   ]
  },
  {
   "cell_type": "code",
   "execution_count": 3,
   "metadata": {},
   "outputs": [
    {
     "name": "stdout",
     "output_type": "stream",
     "text": [
      "Extracting MNIST_data/train-images-idx3-ubyte.gz\n",
      "Extracting MNIST_data/train-labels-idx1-ubyte.gz\n",
      "Extracting MNIST_data/t10k-images-idx3-ubyte.gz\n",
      "Extracting MNIST_data/t10k-labels-idx1-ubyte.gz\n"
     ]
    }
   ],
   "source": [
    "#载入数据集\n",
    "mnist=input_data.read_data_sets('MNIST_data',one_hot=True)"
   ]
  },
  {
   "cell_type": "code",
   "execution_count": 4,
   "metadata": {},
   "outputs": [
    {
     "name": "stdout",
     "output_type": "stream",
     "text": [
      "Iter0,Testing Accuracy0.108\n",
      "Iter1,Testing Accuracy0.1499\n",
      "Iter2,Testing Accuracy0.2894\n",
      "Iter3,Testing Accuracy0.4448\n",
      "Iter4,Testing Accuracy0.5065\n",
      "Iter5,Testing Accuracy0.5286\n",
      "Iter6,Testing Accuracy0.553\n",
      "Iter7,Testing Accuracy0.5893\n",
      "Iter8,Testing Accuracy0.6196\n",
      "Iter9,Testing Accuracy0.6386\n",
      "Iter10,Testing Accuracy0.6529\n",
      "Iter11,Testing Accuracy0.6646\n",
      "Iter12,Testing Accuracy0.6726\n",
      "Iter13,Testing Accuracy0.6793\n",
      "Iter14,Testing Accuracy0.6852\n",
      "Iter15,Testing Accuracy0.6902\n",
      "Iter16,Testing Accuracy0.6953\n",
      "Iter17,Testing Accuracy0.7101\n",
      "Iter18,Testing Accuracy0.7327\n",
      "Iter19,Testing Accuracy0.7511\n",
      "Iter20,Testing Accuracy0.7756\n",
      "Iter21,Testing Accuracy0.8117\n",
      "Iter22,Testing Accuracy0.8259\n",
      "Iter23,Testing Accuracy0.836\n",
      "Iter24,Testing Accuracy0.8419\n",
      "Iter25,Testing Accuracy0.8482\n",
      "Iter26,Testing Accuracy0.8524\n",
      "Iter27,Testing Accuracy0.8572\n",
      "Iter28,Testing Accuracy0.8614\n",
      "Iter29,Testing Accuracy0.8657\n",
      "Iter30,Testing Accuracy0.8697\n",
      "Iter31,Testing Accuracy0.8719\n",
      "Iter32,Testing Accuracy0.8744\n",
      "Iter33,Testing Accuracy0.8777\n",
      "Iter34,Testing Accuracy0.8787\n",
      "Iter35,Testing Accuracy0.8807\n",
      "Iter36,Testing Accuracy0.8829\n",
      "Iter37,Testing Accuracy0.8838\n",
      "Iter38,Testing Accuracy0.886\n",
      "Iter39,Testing Accuracy0.8864\n",
      "Iter40,Testing Accuracy0.8889\n",
      "Iter41,Testing Accuracy0.89\n",
      "Iter42,Testing Accuracy0.891\n",
      "Iter43,Testing Accuracy0.892\n",
      "Iter44,Testing Accuracy0.8928\n",
      "Iter45,Testing Accuracy0.8941\n",
      "Iter46,Testing Accuracy0.8949\n",
      "Iter47,Testing Accuracy0.8949\n",
      "Iter48,Testing Accuracy0.8951\n",
      "Iter49,Testing Accuracy0.8966\n",
      "Iter50,Testing Accuracy0.8974\n"
     ]
    }
   ],
   "source": [
    "#每个批次的大小,神经网络一次性放入的数据，100张图片\n",
    "batch_size=10\n",
    "#计算一共有多少个批次\n",
    "n_batch=mnist.train.num_examples//batch_size#//代表整除\n",
    "\n",
    "#参数概要\n",
    "def variable_summaries(var):\n",
    "    with tf.name_scope('summaries'):\n",
    "        mean=tf.reduce_mean(var)\n",
    "        tf.summary.scalar('mean',mean)#平均值,记录这个值，并给一个名字\n",
    "        with tf.name_scope('stddev'):\n",
    "            stddev=tf.sqrt(tf.reduce_mean(tf.square(var-mean)))\n",
    "        tf.summary.scalar('stddev',stddev)#标准差\n",
    "        tf.summary.scalar('max',tf.reduce_max(var))#最大值\n",
    "        tf.summary.scalar('min',tf.reduce_min(var))#最小值\n",
    "        tf.summary.histogram('histongram',var)#直方图\n",
    "#命名空间\n",
    "with tf.name_scope('input'):\n",
    "    #定义两个占位符\n",
    "    x=tf.placeholder(tf.float32,[None,784],name='x_input')\n",
    "    y=tf.placeholder(tf.float32,[None,10],name='y_input')\n",
    "#创建一个简单的神经网络\n",
    "with tf.name_scope('layer'):\n",
    "    with tf.name_scope('withts'):\n",
    "        W=tf.Variable(tf.random_normal([784,10]),name='w')\n",
    "        variable_summaries(W)\n",
    "    with tf.name_scope('biases'):\n",
    "        b=tf.Variable(tf.zeros([10]),name='b')\n",
    "        variable_summaries(b)\n",
    "    with tf.name_scope('wx_plis_b'):\n",
    "        wx_plus_b=tf.matmul(x,W)+b\n",
    "    with tf.name_scope('softmax'):\n",
    "        prediction=tf.nn.softmax(wx_plus_b)\n",
    "\n",
    "#二次代价函数\n",
    "# loss=tf.reduce_mean(tf.square(y-prediction))\n",
    "with tf.name_scope('loss'):\n",
    "    #交叉熵？？？？加快收敛速度\n",
    "    loss=tf.reduce_mean(tf.nn.softmax_cross_entropy_with_logits(labels=y,logits=prediction))\n",
    "    tf.summary.scalar('loss',loss)#loss只有一个值，没有标准差\n",
    "with tf.name_scope('train'):\n",
    "    train_step=tf.train.GradientDescentOptimizer(0.02).minimize(loss)\n",
    "init=tf.global_variables_initializer()\n",
    "with tf.name_scope('accuracy'):\n",
    "#求准确率,比较两个参数是否相同，相同返回True，不同返回False。\n",
    "    with tf.name_scope('correct_prediction'):\n",
    "        correct_prediction=tf.equal(tf.argmax(y,1),tf.argmax(prediction,1))#argmax返回一维张量中最大值所在的位置\n",
    "    with tf.name_scope('accuracy'):\n",
    "        accuracy=tf.reduce_mean(tf.cast(correct_prediction,tf.float32))#cast将布尔转化为浮点\n",
    "        tf.summary.scalar('accuracy',accuracy)\n",
    "        \n",
    "#合并所有summary\n",
    "merged=tf.summary.merge_all()\n",
    "\n",
    "with tf.Session() as sess:\n",
    "    sess.run(init)\n",
    "    writer=tf.summary.FileWriter('logs/',sess.graph)#文件路径\n",
    "    for epoch in range(51):#这个循环代表所有图片训练21次\n",
    "        for batch in range(n_batch):#这个循环代表把所有图片训练一次\n",
    "            batch_xs,batch_ys=mnist.train.next_batch(batch_size)\n",
    "            summary,_=sess.run([merged,train_step],feed_dict={x:batch_xs,y:batch_ys})\n",
    "        writer.add_summary(summary,epoch)   \n",
    "        acc=sess.run(accuracy,feed_dict={x:mnist.test.images,y:mnist.test.labels})\n",
    "        print('Iter'+str(epoch)+',Testing Accuracy'+str(acc))\n",
    "        \n",
    "#在控制台找到路径，输入tensorboard --logir=“包含日志的文件夹”"
   ]
  },
  {
   "cell_type": "code",
   "execution_count": null,
   "metadata": {
    "collapsed": true
   },
   "outputs": [],
   "source": []
  }
 ],
 "metadata": {
  "kernelspec": {
   "display_name": "Python 3",
   "language": "python",
   "name": "python3"
  },
  "language_info": {
   "codemirror_mode": {
    "name": "ipython",
    "version": 3
   },
   "file_extension": ".py",
   "mimetype": "text/x-python",
   "name": "python",
   "nbconvert_exporter": "python",
   "pygments_lexer": "ipython3",
   "version": "3.6.8"
  }
 },
 "nbformat": 4,
 "nbformat_minor": 2
}
