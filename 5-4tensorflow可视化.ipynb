{
 "cells": [
  {
   "cell_type": "code",
   "execution_count": 1,
   "metadata": {
    "collapsed": true
   },
   "outputs": [],
   "source": [
    "import tensorflow as tf\n",
    "from tensorflow.examples.tutorials.mnist import input_data\n",
    "from tensorflow.contrib.tensorboard.plugins import projector"
   ]
  },
  {
   "cell_type": "code",
   "execution_count": 2,
   "metadata": {},
   "outputs": [
    {
     "name": "stdout",
     "output_type": "stream",
     "text": [
      "Extracting MNIST_data/train-images-idx3-ubyte.gz\n",
      "Extracting MNIST_data/train-labels-idx1-ubyte.gz\n",
      "Extracting MNIST_data/t10k-images-idx3-ubyte.gz\n",
      "Extracting MNIST_data/t10k-labels-idx1-ubyte.gz\n",
      "Iter0, Testing Accuracy=0.1552\n",
      "Iter100, Testing Accuracy=0.7542\n",
      "Iter200, Testing Accuracy=0.7993\n",
      "Iter300, Testing Accuracy=0.8122\n",
      "Iter400, Testing Accuracy=0.8179\n",
      "Iter500, Testing Accuracy=0.8229\n",
      "Iter600, Testing Accuracy=0.8241\n",
      "Iter700, Testing Accuracy=0.8282\n",
      "Iter800, Testing Accuracy=0.832\n",
      "Iter900, Testing Accuracy=0.8613\n",
      "Iter1000, Testing Accuracy=0.8762\n"
     ]
    }
   ],
   "source": [
    "#载入数据集\n",
    "mnist=input_data.read_data_sets('MNIST_data',one_hot=True)\n",
    "#运行次数\n",
    "max_steps=1001\n",
    "#图片数量\n",
    "image_num=3000\n",
    "\n",
    "#定义绘画\n",
    "sess=tf.Session()\n",
    "\n",
    "#载入图片\n",
    "embedding=tf.Variable(tf.stack(mnist.test.images[:image_num]),trainable=False,name='embedding')\n",
    "\n",
    "#参数概要\n",
    "def variable_summaries(var):\n",
    "    with tf.name_scope('summaries'):\n",
    "        mean=tf.reduce_mean(var)\n",
    "        tf.summary.scalar('mean',mean)#平均值,记录这个值，并给一个名字\n",
    "        with tf.name_scope('stddev'):\n",
    "            stddev=tf.sqrt(tf.reduce_mean(tf.square(var-mean)))\n",
    "        tf.summary.scalar('stddev',stddev)#标准差\n",
    "        tf.summary.scalar('max',tf.reduce_max(var))#最大值\n",
    "        tf.summary.scalar('min',tf.reduce_min(var))#最小值\n",
    "        tf.summary.histogram('histongram',var)#直方图\n",
    "#命名空间\n",
    "with tf.name_scope('input'):\n",
    "    #定义两个占位符\n",
    "    x=tf.placeholder(tf.float32,[None,784],name='x_input')\n",
    "    y=tf.placeholder(tf.float32,[None,10],name='y_input')\n",
    "\n",
    "#显示图片\n",
    "with tf.name_scope('input_reshape'):\n",
    "    image_shaped_input=tf.reshape(x,[-1,28,28,1])\n",
    "    tf.summary.image('input',image_shaped_input,10)#放10张图片\n",
    "    \n",
    "#创建一个简单的神经网络\n",
    "with tf.name_scope('layer'):\n",
    "    with tf.name_scope('withts'):\n",
    "        W=tf.Variable(tf.zeros([784,10]),name='w')\n",
    "        variable_summaries(W)\n",
    "    with tf.name_scope('biases'):\n",
    "        b=tf.Variable(tf.zeros([10]),name='b')\n",
    "        variable_summaries(b)\n",
    "    with tf.name_scope('wx_plis_b'):\n",
    "        wx_plus_b=tf.matmul(x,W)+b\n",
    "    with tf.name_scope('softmax'):\n",
    "        prediction=tf.nn.softmax(wx_plus_b)\n",
    "\n",
    "#二次代价函数\n",
    "# loss=tf.reduce_mean(tf.square(y-prediction))\n",
    "with tf.name_scope('loss'):\n",
    "    #交叉熵？？？？加快收敛速度\n",
    "    loss=tf.reduce_mean(tf.nn.softmax_cross_entropy_with_logits(labels=y,logits=prediction))\n",
    "    tf.summary.scalar('loss',loss)#loss只有一个值，没有标准差\n",
    "with tf.name_scope('train'):\n",
    "    train_step=tf.train.GradientDescentOptimizer(0.2).minimize(loss)\n",
    "init=tf.global_variables_initializer()\n",
    "sess.run(init)\n",
    "with tf.name_scope('accuracy'):\n",
    "#求准确率,比较两个参数是否相同，相同返回True，不同返回False。\n",
    "    with tf.name_scope('correct_prediction'):\n",
    "        correct_prediction=tf.equal(tf.argmax(y,1),tf.argmax(prediction,1))#argmax返回一维张量中最大值所在的位置\n",
    "    with tf.name_scope('accuracy'):\n",
    "        accuracy=tf.reduce_mean(tf.cast(correct_prediction,tf.float32))#cast将布尔转化为浮点\n",
    "        tf.summary.scalar('accuracy',accuracy)\n",
    "\n",
    "#产生metadata文件\n",
    "if tf.gfile.Exists('projector/projector/metadata.tsv'):\n",
    "    tf.gfile.DeleteRecursively('projector/projector/metadata.tsv')\n",
    "with open('projector/projector/metadata.tsv','w') as f:\n",
    "    labels=sess.run(tf.argmax(mnist.test.labels[:],1))\n",
    "    for i in range(image_num):\n",
    "        f.write(str(labels[i])+'\\n')\n",
    "#合并所有summary\n",
    "merged=tf.summary.merge_all()\n",
    "\n",
    "\n",
    "projector_writer=tf.summary.FileWriter('projector/projector',sess.graph)#文件路径\n",
    "saver=tf.train.Saver()\n",
    "config=projector.ProjectorConfig()\n",
    "embed=config.embeddings.add()\n",
    "embed.tensor_name=embedding.name\n",
    "embed.metadata_path='projector/projector/metadata.tsv'\n",
    "embed.sprite.image_path='projector/data/mnist_10k_sprite.png'\n",
    "embed.sprite.single_image_dim.extend([28,28])\n",
    "projector.visualize_embeddings(projector_writer,config)\n",
    "\n",
    "for i in range(max_steps):\n",
    "    batch_xs,batch_ys=mnist.train.next_batch(100)\n",
    "    run_options=tf.RunOptions(trace_level=tf.RunOptions.FULL_TRACE)\n",
    "    run_metadata=tf.RunMetadata()\n",
    "    summary,_=sess.run([merged,train_step],feed_dict={x:batch_xs,y:batch_ys},options=run_options,run_metadata=run_metadata)\n",
    "    projector_writer.add_run_metadata(run_metadata,'step%03d'%i)\n",
    "    projector_writer.add_summary(summary,i)\n",
    "    \n",
    "    if i%100==0:\n",
    "        acc=sess.run(accuracy,feed_dict={x:mnist.test.images,y:mnist.test.labels})\n",
    "        print(\"Iter\"+str(i)+\", Testing Accuracy=\"+str(acc))\n",
    "\n",
    "        \n",
    "saver.save(sess,'projector/projector/a_model.ckpt',global_step=max_steps)\n",
    "projector_writer.close()\n",
    "sess.close()"
   ]
  },
  {
   "cell_type": "code",
   "execution_count": 3,
   "metadata": {},
   "outputs": [
    {
     "name": "stdout",
     "output_type": "stream",
     "text": [
      "Help on function delete_recursively in module tensorflow.python.lib.io.file_io:\n",
      "\n",
      "delete_recursively(dirname)\n",
      "    Deletes everything under dirname recursively.\n",
      "    \n",
      "    Args:\n",
      "      dirname: string, a path to a directory\n",
      "    \n",
      "    Raises:\n",
      "      errors.OpError: If the operation fails.\n",
      "\n"
     ]
    }
   ],
   "source": [
    "help(tf.gfile.DeleteRecursively)"
   ]
  },
  {
   "cell_type": "code",
   "execution_count": null,
   "metadata": {
    "collapsed": true
   },
   "outputs": [],
   "source": []
  }
 ],
 "metadata": {
  "kernelspec": {
   "display_name": "Python 3",
   "language": "python",
   "name": "python3"
  },
  "language_info": {
   "codemirror_mode": {
    "name": "ipython",
    "version": 3
   },
   "file_extension": ".py",
   "mimetype": "text/x-python",
   "name": "python",
   "nbconvert_exporter": "python",
   "pygments_lexer": "ipython3",
   "version": "3.6.8"
  }
 },
 "nbformat": 4,
 "nbformat_minor": 2
}
